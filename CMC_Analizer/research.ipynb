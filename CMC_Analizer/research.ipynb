{
 "cells": [
  {
   "cell_type": "markdown",
   "metadata": {},
   "source": [
    "### Data Research: CoinMarketCap\n",
    "Research and data analysis using the CoinMarketCap API to obtain different metrics of the best valued cryptocurrencies on the market.\n",
    "\n",
    "Documentation: https://coinmarketcap.com/api/documentation/v1/"
   ]
  },
  {
   "cell_type": "code",
   "execution_count": 49,
   "metadata": {},
   "outputs": [],
   "source": [
    "from requests import  Session\n",
    "from dotenv import load_dotenv\n",
    "import os\n",
    "\n",
    "#take enviroment variables from .env file.\n",
    "load_dotenv()\n",
    "CMC_PRO_API_KEY = os.getenv('api')\n",
    "\n",
    "quantity = 3 #int(input(\"How many crypto do you want to see?\"))\n",
    "\n",
    "base_url = 'https://pro-api.coinmarketcap.com/v1/cryptocurrency/listings/latest'\n",
    "params = {\n",
    "  'start':'1',\n",
    "  'limit': str(quantity),\n",
    "  'convert':'USD'\n",
    "}\n",
    "headers = {\n",
    "  'Accepts': 'application/json',\n",
    "  'X-CMC_PRO_API_KEY': CMC_PRO_API_KEY,\n",
    "}\n",
    "\n",
    "session = Session()\n",
    "session.headers.update(headers)\n",
    "response = session.get(base_url, params=params, headers=headers)\n",
    "\n",
    "#Variable Declaration using a def\n",
    "def dataFor(data, response, *args):\n",
    "    if response.status_code == 200:\n",
    "        for cryptocurrency in data[\"data\"]:\n",
    "            output_str = \"\"\n",
    "            for arg in args:\n",
    "                if arg == \"name\":\n",
    "                    output_str += f\"{cryptocurrency['name']} \"\n",
    "                elif arg == \"symbol\":\n",
    "                    output_str += f\"({cryptocurrency['symbol']}) \"\n",
    "                elif arg == \"price\":\n",
    "                    price = cryptocurrency['quote']['USD']['price']\n",
    "                    # Formatted price for 2 decimal places\n",
    "                    formatted_price = \"{:.2f}\".format(float(price))\n",
    "                    output_str += f\"Price: ${formatted_price} \"\n",
    "                elif arg == \"market_cap\":\n",
    "                    output_str += f\"\\nMarket Cap: {cryptocurrency['quote']['USD']['market_cap']} \"\n",
    "                elif arg == \"volume_24h\":\n",
    "                    output_str += f\"\\nVolume 24h: {cryptocurrency['quote']['USD']['volume_24h']} \"\n",
    "                elif arg == \"percent_change_24h\":\n",
    "                    output_str += f\"\\nPercent Change 24h: {cryptocurrency['quote']['USD']['percent_change_24h']} \"\n",
    "            print(output_str, end=\"\\n --------------------------------------\\n\")\n",
    "    else:\n",
    "        print(\"Status Error\")\n"
   ]
  },
  {
   "cell_type": "markdown",
   "metadata": {},
   "source": [
    "### Cryptocurrency Rank"
   ]
  },
  {
   "cell_type": "code",
   "execution_count": 29,
   "metadata": {},
   "outputs": [
    {
     "name": "stdout",
     "output_type": "stream",
     "text": [
      "Bitcoin (BTC) Price: $47707.74 \n",
      "Ethereum (ETH) Price: $2508.40 \n",
      "Tether USDt (USDT) Price: $1.00 \n"
     ]
    }
   ],
   "source": [
    "dataFor(data, response, \"name\", \"symbol\")"
   ]
  },
  {
   "cell_type": "markdown",
   "metadata": {},
   "source": [
    "### Market Capitalization, Negotiation Volume an Price Changes in last 24h.\n"
   ]
  },
  {
   "cell_type": "code",
   "execution_count": 50,
   "metadata": {},
   "outputs": [
    {
     "name": "stdout",
     "output_type": "stream",
     "text": [
      "Bitcoin (BTC) Price: $47707.74 \n",
      "Market Cap: 936233691270.6924 \n",
      "Percent Change 24h: 0.97239476 \n",
      " ---------------------------------- \n",
      "Ethereum (ETH) Price: $2508.40 \n",
      "Market Cap: 301439436766.8043 \n",
      "Percent Change 24h: 0.47389799 \n",
      " ---------------------------------- \n",
      "Tether USDt (USDT) Price: $1.00 \n",
      "Market Cap: 96378546862.16599 \n",
      "Percent Change 24h: -0.01346039 \n",
      " ---------------------------------- \n"
     ]
    }
   ],
   "source": [
    "dataFor(data, response, \"name\", \"symbol\", \"price\", \"market_cap\", \"percent_change_24h\")"
   ]
  },
  {
   "cell_type": "markdown",
   "metadata": {},
   "source": [
    "### Market Capitalization and Negotiation Volume Visualization"
   ]
  },
  {
   "cell_type": "code",
   "execution_count": 20,
   "metadata": {},
   "outputs": [],
   "source": [
    "import numpy as np\n",
    "import matplotlib.pyplot as plt\n",
    "import seaborn as sns\n",
    "\n",
    "\n"
   ]
  }
 ],
 "metadata": {
  "kernelspec": {
   "display_name": "apiProject",
   "language": "python",
   "name": "apiproject"
  },
  "language_info": {
   "codemirror_mode": {
    "name": "ipython",
    "version": 3
   },
   "file_extension": ".py",
   "mimetype": "text/x-python",
   "name": "python",
   "nbconvert_exporter": "python",
   "pygments_lexer": "ipython3",
   "version": "3.11.5"
  }
 },
 "nbformat": 4,
 "nbformat_minor": 2
}
