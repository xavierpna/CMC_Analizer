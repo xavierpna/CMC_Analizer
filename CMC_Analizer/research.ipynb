{
 "cells": [
  {
   "cell_type": "markdown",
   "metadata": {},
   "source": [
    "### Data Research: CoinMarketCap\n",
    "Research and data analysis using the CoinMarketCap API to obtain different metrics of the best valued cryptocurrencies on the market.\n",
    "\n",
    "Documentation: https://coinmarketcap.com/api/documentation/v1/"
   ]
  },
  {
   "cell_type": "code",
   "execution_count": 226,
   "metadata": {},
   "outputs": [],
   "source": [
    "from requests import  Session\n",
    "from dotenv import load_dotenv\n",
    "import os\n",
    "import pandas as pd\n",
    "import seaborn as sns\n",
    "import matplotlib.pyplot as plt\n",
    "\n",
    "#take enviroment variables from .env file.\n",
    "load_dotenv()\n",
    "CMC_PRO_API_KEY = os.getenv('api')\n",
    "\n",
    "base_url = 'https://pro-api.coinmarketcap.com/v1/cryptocurrency/listings/latest'\n",
    "params = {\n",
    "  'start':'1',\n",
    "  'limit': '10',\n",
    "  'convert':'USD'\n",
    "}\n",
    "headers = {\n",
    "  'Accepts': 'application/json',\n",
    "  'X-CMC_PRO_API_KEY': CMC_PRO_API_KEY,\n",
    "}\n",
    "\n",
    "session = Session()\n",
    "session.headers.update(headers)\n",
    "response = session.get(base_url, params=params, headers=headers)\n",
    "\n",
    "#Data Searcher function\n",
    "def dataSearcher(data, response, *args):\n",
    "    if response.status_code == 200:\n",
    "        user_input = input(\"Enter the crypto names separated by commas: \")\n",
    "        crypto_symbols = [symbol.strip() for symbol in user_input.split(',')]\n",
    "        for crypto_symbol in crypto_symbols:\n",
    "            found = False\n",
    "            for cryptocurrency in data[\"data\"]:\n",
    "                if cryptocurrency[\"symbol\"] == crypto_symbol:\n",
    "                    found = True\n",
    "                    output_str = \"\"\n",
    "                    for arg in args:\n",
    "                        if arg == \"name\":\n",
    "                            output_str += f\"{cryptocurrency['name']} \"\n",
    "                        elif arg == \"symbol\":\n",
    "                            output_str += f\"({cryptocurrency['symbol']}) \"\n",
    "                        elif arg == \"cmc_rank\":\n",
    "                            output_str += f\"#{cryptocurrency['cmc_rank']}. \"\n",
    "                        elif arg == \"price\":\n",
    "                            price = cryptocurrency['quote']['USD']['price']\n",
    "                            # Formatted price for 2 decimal places\n",
    "                            formatted_price = \"{:.2f}\".format(float(price))\n",
    "                            output_str += f\"Price: ${formatted_price} \"\n",
    "                        elif arg == \"market_cap\":\n",
    "                            output_str += f\"\\nMarket Cap: {cryptocurrency['quote']['USD']['market_cap']} \"\n",
    "                        elif arg == \"volume_24h\":\n",
    "                            output_str += f\"\\nVolume 24h: {cryptocurrency['quote']['USD']['volume_24h']} \"\n",
    "                        elif arg == \"percent_change_24h\":\n",
    "                            output_str += f\"\\nPercent Change 24h: {cryptocurrency['quote']['USD']['percent_change_24h']} \"\n",
    "                    print(output_str, end=\"\\n --------------------------------------\\n\")\n",
    "                    break\n",
    "            if not found:\n",
    "                print(f\"No cryptocurrency found with the symbol: '{crypto_symbol}'\")\n",
    "    else:\n",
    "        print(\"Status Error\")\n",
    "\n",
    "#Data Visualizer function\n",
    "def dataVisualizer(data, response, *args):\n",
    "    if response.status_code == 200:\n",
    "        cryptocurrency_data = [] # List to store crypto data\n",
    "        user_input = input(\"Enter the crypto symbols separated by commas: \")\n",
    "        crypto_symbols = [symbol.strip() for symbol in user_input.split(',')]\n",
    "        for crypto_symbol in crypto_symbols:\n",
    "            found = False\n",
    "            for cryptocurrency in data[\"data\"]:\n",
    "                if cryptocurrency['symbol'] == crypto_symbol:\n",
    "                    found = True\n",
    "                    output_data = {} # Dict to store crypto data\n",
    "                    for arg in args:\n",
    "                        if arg == \"name\":\n",
    "                            output_data[\"Name\"] = cryptocurrency['name']\n",
    "                        elif arg == \"symbol\":\n",
    "                            output_data[\"Symbol\"] = cryptocurrency['symbol']\n",
    "                        elif arg == \"cmc_rank\":\n",
    "                            output_data[\"CMC Rank\"] = cryptocurrency['cmc_rank']\n",
    "                        elif arg == \"price\":\n",
    "                            price = cryptocurrency['quote']['USD']['price']\n",
    "                            formatted_price = float(\"{:.2f}\".format(float(price)))\n",
    "                            output_data[\"Price\"] = formatted_price\n",
    "                        elif arg == \"market_cap\":\n",
    "                            output_data[\"Market Cap\"] = cryptocurrency['quote']['USD']['market_cap']\n",
    "                        elif arg == \"volume_24h\":\n",
    "                            output_data[\"Volume 24h\"] = cryptocurrency['quote']['USD']['volume_24h']\n",
    "                        elif arg == \"percent_change_24h\":\n",
    "                            output_data[\"Percent Change 24h\"] = cryptocurrency['quote']['USD'][\"percent_change_24h\"]\n",
    "                        elif arg == \"percent_change_7d\":\n",
    "                            output_data[\"Percent Change 7 Days\"] = cryptocurrency['quote']['USD'][\"percent_change_7d\"]\n",
    "                    cryptocurrency_data.append(output_data) # Agregamos los datos de la criptomoneda al diccionario\n",
    "            if not found:\n",
    "                print(f\"No cryptocurrency found with the symbol: '{crypto_symbol}'\")\n",
    "        \n",
    "        # Create a DataFrame using pandas after procesing all cryptocurrecy symbols\n",
    "        cryptocurrency_df = pd.DataFrame(cryptocurrency_data)\n",
    "        return cryptocurrency_df\n",
    "    else:\n",
    "        print(\"Status Error\")\n",
    "\n"
   ]
  },
  {
   "cell_type": "markdown",
   "metadata": {},
   "source": [
    "### Cryptocurrency Rank"
   ]
  },
  {
   "cell_type": "code",
   "execution_count": 233,
   "metadata": {},
   "outputs": [
    {
     "name": "stdout",
     "output_type": "stream",
     "text": [
      "No cryptocurrency found with the symbol: 'ADA'\n"
     ]
    }
   ],
   "source": [
    "dataSearcher(data, response, \"cmc_rank\", \"name\", \"symbol\")"
   ]
  },
  {
   "cell_type": "markdown",
   "metadata": {},
   "source": [
    "### Market Capitalization, Negotiation Volume an Price Changes in last 24h.\n"
   ]
  },
  {
   "cell_type": "code",
   "execution_count": 199,
   "metadata": {},
   "outputs": [
    {
     "name": "stdout",
     "output_type": "stream",
     "text": [
      "Ethereum (ETH) Price: $2508.40 \n",
      "Market Cap: 301439436766.8043 \n",
      "Percent Change 24h: 0.47389799 \n",
      " --------------------------------------\n",
      "Tether USDt (USDT) Price: $1.00 \n",
      "Market Cap: 96378546862.16599 \n",
      "Percent Change 24h: -0.01346039 \n",
      " --------------------------------------\n"
     ]
    }
   ],
   "source": [
    "dataSearcher(data, response, \"name\", \"symbol\", \"price\", \"market_cap\", \"percent_change_24h\")"
   ]
  },
  {
   "cell_type": "markdown",
   "metadata": {},
   "source": [
    "### Market Capitalization and Percent Change in the last 7 Days"
   ]
  },
  {
   "cell_type": "code",
   "execution_count": 230,
   "metadata": {},
   "outputs": [
    {
     "data": {
      "text/plain": [
       "<Axes: xlabel='Percent Change 7 Days', ylabel='Market Cap'>"
      ]
     },
     "execution_count": 230,
     "metadata": {},
     "output_type": "execute_result"
    },
    {
     "data": {
      "image/png": "[encoded data removed]",
      "text/plain": [
       "<Figure size 640x480 with 1 Axes>"
      ]
     },
     "metadata": {},
     "output_type": "display_data"
    }
   ],
   "source": [
    "sns.set_theme(style=\"whitegrid\")\n",
    "\n",
    "crypto_df = dataVisualizer(data, response, \"name\", \"symbol\", \"market_cap\", \"percent_change_7d\")\n",
    "\n",
    "# Convertir las columnas \"Percent Change 7 Days\" y \"Market Cap\" a tipos numéricos\n",
    "crypto_df[\"Percent Change 7 Days\"] = pd.to_numeric(crypto_df[\"Percent Change 7 Days\"], errors=\"coerce\")\n",
    "crypto_df[\"Market Cap\"] = pd.to_numeric(crypto_df[\"Market Cap\"], errors=\"coerce\")\n",
    "\n",
    "# Eliminar filas con valores NaN (si existen)\n",
    "crypto_df = crypto_df.dropna(subset=[\"Percent Change 7 Days\", \"Market Cap\"])\n",
    "\n",
    "# Trazar el gráfico\n",
    "sns.lineplot(data=crypto_df, x=\"Percent Change 7 Days\", y=\"Market Cap\", palette=\"tab10\", linewidth=2.5)\n",
    "\n",
    "sns.lineplot(data=crypto_df, x=\"Percent Change 7 Days\", y=\"Market Cap\", palette=\"tab10\", linewidth=2.5)\n"
   ]
  },
  {
   "cell_type": "markdown",
   "metadata": {},
   "source": [
    "### Cryptocurrencies Comparision"
   ]
  },
  {
   "cell_type": "code",
   "execution_count": 231,
   "metadata": {},
   "outputs": [
    {
     "data": {
      "text/plain": [
       "<Axes: xlabel='Name', ylabel='Price'>"
      ]
     },
     "execution_count": 231,
     "metadata": {},
     "output_type": "execute_result"
    },
    {
     "data": {
      "image/png": "[encoded data removed]",
      "text/plain": [
       "<Figure size 640x480 with 1 Axes>"
      ]
     },
     "metadata": {},
     "output_type": "display_data"
    }
   ],
   "source": [
    "crypto_df = dataVisualizer(data, response, \"name\", \"price\")\n",
    "sns.barplot(data=crypto_df, x=\"Name\", y=\"Price\")"
   ]
  }
 ],
 "metadata": {
  "kernelspec": {
   "display_name": "apiProject",
   "language": "python",
   "name": "apiproject"
  },
  "language_info": {
   "codemirror_mode": {
    "name": "ipython",
    "version": 3
   },
   "file_extension": ".py",
   "mimetype": "text/x-python",
   "name": "python",
   "nbconvert_exporter": "python",
   "pygments_lexer": "ipython3",
   "version": "3.11.5"
  }
 },
 "nbformat": 4,
 "nbformat_minor": 2
}
