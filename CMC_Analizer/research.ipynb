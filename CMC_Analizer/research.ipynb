{
 "cells": [
  {
   "cell_type": "markdown",
   "metadata": {},
   "source": [
    "### Data Research: CoinMarketCap\n",
    "Research and data analysis using the CoinMarketCap API to obtain different metrics of the best valued cryptocurrencies on the market.\n",
    "\n",
    "Documentation: https://coinmarketcap.com/api/documentation/v1/"
   ]
  },
  {
   "cell_type": "code",
   "execution_count": 15,
   "metadata": {},
   "outputs": [
    {
     "name": "stdout",
     "output_type": "stream",
     "text": [
      "Current Top Cryptocurrencies: \n",
      "------------------------------------- \n",
      "#1: Bitcoin (BTC): $45388.07\n",
      "#2: Ethereum (ETH): $2428.34\n",
      "#3: Tether USDt (USDT): $1.00\n",
      "#4: BNB (BNB): $318.36\n",
      "#5: Solana (SOL): $102.60\n",
      "#6: XRP (XRP): $0.52\n",
      "#7: USDC (USDC): $1.00\n",
      "#8: Cardano (ADA): $0.53\n",
      "#9: Avalanche (AVAX): $35.64\n",
      "#10: Dogecoin (DOGE): $0.08\n"
     ]
    }
   ],
   "source": [
    "from requests import  Session\n",
    "from dotenv import load_dotenv\n",
    "import os\n",
    "\n",
    "#take enviroment variables from .env file.\n",
    "load_dotenv()\n",
    "CMC_PRO_API_KEY = os.getenv('api')\n",
    "\n",
    "quantity = int(input(\"How many crypto do you want to see?\"))\n",
    "\n",
    "base_url = 'https://pro-api.coinmarketcap.com/v1/cryptocurrency/listings/latest'\n",
    "params = {\n",
    "  'start':'1',\n",
    "  'limit': str(quantity),\n",
    "  'convert':'USD'\n",
    "}\n",
    "headers = {\n",
    "  'Accepts': 'application/json',\n",
    "  'X-CMC_PRO_API_KEY': CMC_PRO_API_KEY,\n",
    "}\n",
    "\n",
    "session = Session()\n",
    "session.headers.update(headers)\n",
    "response = session.get(base_url, params=params, headers=headers)\n",
    "\n",
    "if response.status_code == 200:\n",
    "    data = response.json()\n",
    "#Search the names of the list on the API\n",
    "    print(\"Current Top Cryptocurrencies: \\n\", end=\"------------------------------------- \\n\")\n",
    "    i = 0\n",
    "    for cryptocurrency in data[\"data\"]:\n",
    "        i = i + 1\n",
    "        name = cryptocurrency[\"name\"]\n",
    "        symbol = cryptocurrency[\"symbol\"]\n",
    "        price = float(cryptocurrency[\"quote\"][\"USD\"][\"price\"])\n",
    "        print(f\"#{i}: {name} ({symbol}): ${price:.2f}\")\n",
    "else:\n",
    "    print(\"Error al realizar la solicitud\", response.status_code)"
   ]
  }
 ],
 "metadata": {
  "kernelspec": {
   "display_name": "apiProject",
   "language": "python",
   "name": "apiproject"
  },
  "language_info": {
   "codemirror_mode": {
    "name": "ipython",
    "version": 3
   },
   "file_extension": ".py",
   "mimetype": "text/x-python",
   "name": "python",
   "nbconvert_exporter": "python",
   "pygments_lexer": "ipython3",
   "version": "3.11.5"
  }
 },
 "nbformat": 4,
 "nbformat_minor": 2
}
