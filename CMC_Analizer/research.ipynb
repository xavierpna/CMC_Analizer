{
 "cells": [
  {
   "cell_type": "markdown",
   "metadata": {},
   "source": [
    "### Data Research: CoinMarketCap\n",
    "Research and data analysis using the CoinMarketCap API to obtain different metrics of the best valued cryptocurrencies on the market.\n",
    "\n",
    "Documentation: https://coinmarketcap.com/api/documentation/v1/"
   ]
  },
  {
   "cell_type": "code",
   "execution_count": null,
   "metadata": {},
   "outputs": [],
   "source": [
    "from requests import  Session\n",
    "from dotenv import load_dotenv\n",
    "import os\n",
    "\n",
    "#take enviroment variables from .env file.\n",
    "load_dotenv()\n",
    "CMC_PRO_API_KEY = os.getenv('api')\n",
    "\n",
    "quantity = int(input(\"How many crypto do you want to see?\"))\n",
    "\n",
    "base_url = 'https://pro-api.coinmarketcap.com/v1/cryptocurrency/listings/latest'\n",
    "params = {\n",
    "  'start':'1',\n",
    "  'limit': str(quantity),\n",
    "  'convert':'USD'\n",
    "}\n",
    "headers = {\n",
    "  'Accepts': 'application/json',\n",
    "  'X-CMC_PRO_API_KEY': CMC_PRO_API_KEY,\n",
    "}\n",
    "\n",
    "session = Session()\n",
    "session.headers.update(headers)\n",
    "response = session.get(base_url, params=params, headers=headers)"
   ]
  },
  {
   "cell_type": "markdown",
   "metadata": {},
   "source": [
    "### Cryptocurrency Rank"
   ]
  },
  {
   "cell_type": "code",
   "execution_count": 17,
   "metadata": {},
   "outputs": [
    {
     "name": "stdout",
     "output_type": "stream",
     "text": [
      "Cryptocurrencies Order By Rank \n",
      "------------------------------------- \n",
      "#1. Bitcoin(BTC)\n",
      "#2. Ethereum(ETH)\n",
      "#3. Tether USDt(USDT)\n",
      "#4. BNB(BNB)\n",
      "#5. Solana(SOL)\n"
     ]
    }
   ],
   "source": [
    "if response.status_code == 200:\n",
    "    data = response.json()\n",
    "\n",
    "#Search the Crypto Data\n",
    "    print(\"Cryptocurrencies Order By Rank \\n\", end = \"------------------------------------- \\n\")\n",
    "    i = 0\n",
    "    for cryptocurrency in data[\"data\"]:\n",
    "        i += 1\n",
    "        name = cryptocurrency[\"name\"]\n",
    "        symbol = cryptocurrency[\"symbol\"]\n",
    "        print(f\"#{i}. {name}({symbol})\")"
   ]
  },
  {
   "cell_type": "markdown",
   "metadata": {},
   "source": [
    "### Market Capitalization, Negotiation Volume an Price Changes in last 24h.\n"
   ]
  },
  {
   "cell_type": "code",
   "execution_count": null,
   "metadata": {},
   "outputs": [],
   "source": [
    "if response.status_code == 200:\n",
    "    data = response.json()\n",
    "\n",
    "#Search the Crypto Data\n",
    "    print(\"Cryptocurrencies Order By Rank \\n\", end = \"------------------------------------- \\n\")\n",
    "    i = 0\n",
    "    for cryptocurrency in data[\"data\"]:\n",
    "        i += 1\n",
    "        name = cryptocurrency[\"name\"]\n",
    "        symbol = cryptocurrency[\"symbol\"]\n",
    "        price = float(cryptocurrency[\"quote\"][\"USD\"][\"price\"])\n",
    "        market_cap = cryptocurrency[\"quote\"][\"USD\"][\"market_cap\"]\n",
    "        volume_24h = cryptocurrency[\"quote\"][\"USD\"][\"volume_24h\"]\n",
    "        percent_change_24h = cryptocurrency[\"quote\"][\"USD\"][\"percent_change_24h\"]\n",
    "        print(f\"\"\"#{i}. {name}({symbol}): ${price:.2f}\n",
    "        MarketCap: {market_cap:.2f}\n",
    "        Negotiation Volume: {volume_24h:.2f}\n",
    "        Price Changes in last 24h: {percent_change_24h:.2f}% \\n\"\"\")"
   ]
  }
 ],
 "metadata": {
  "kernelspec": {
   "display_name": "apiProject",
   "language": "python",
   "name": "apiproject"
  },
  "language_info": {
   "codemirror_mode": {
    "name": "ipython",
    "version": 3
   },
   "file_extension": ".py",
   "mimetype": "text/x-python",
   "name": "python",
   "nbconvert_exporter": "python",
   "pygments_lexer": "ipython3",
   "version": "3.11.5"
  }
 },
 "nbformat": 4,
 "nbformat_minor": 2
}
